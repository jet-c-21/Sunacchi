{
 "cells": [
  {
   "cell_type": "code",
   "execution_count": 2,
   "metadata": {
    "collapsed": true
   },
   "outputs": [
    {
     "name": "stdout",
     "output_type": "stream",
     "text": [
      "[INFO] - append directory to path: /home/puff/my_home/side_project/Sunacchi\n"
     ]
    }
   ],
   "source": [
    "import sys\n",
    "import pathlib\n",
    "\n",
    "CURR_DIR = pathlib.Path().resolve()\n",
    "PROJECT_DIR = CURR_DIR.parent.parent.parent\n",
    "sys.path.append(str(PROJECT_DIR))\n",
    "print(f\"[INFO] - append directory to path: {PROJECT_DIR}\")"
   ]
  },
  {
   "cell_type": "code",
   "execution_count": 15,
   "metadata": {
    "collapsed": false,
    "pycharm": {
     "name": "#%%\n"
    }
   },
   "outputs": [],
   "source": [
    "import requests\n",
    "import pandas as pd"
   ]
  },
  {
   "cell_type": "code",
   "execution_count": 5,
   "metadata": {},
   "outputs": [],
   "source": [
    "all_proxy_csv_path = PROJECT_DIR / 'proxy_servers_files' / 'free-proxy-list.csv'\n",
    "assert all_proxy_csv_path.is_file()"
   ]
  },
  {
   "cell_type": "code",
   "execution_count": 6,
   "metadata": {},
   "outputs": [],
   "source": [
    "all_proxy_df = pd.read_csv(all_proxy_csv_path)"
   ]
  },
  {
   "cell_type": "code",
   "execution_count": 12,
   "metadata": {},
   "outputs": [
    {
     "data": {
      "text/html": [
       "<div>\n",
       "<style scoped>\n",
       "    .dataframe tbody tr th:only-of-type {\n",
       "        vertical-align: middle;\n",
       "    }\n",
       "\n",
       "    .dataframe tbody tr th {\n",
       "        vertical-align: top;\n",
       "    }\n",
       "\n",
       "    .dataframe thead th {\n",
       "        text-align: right;\n",
       "    }\n",
       "</style>\n",
       "<table border=\"1\" class=\"dataframe\">\n",
       "  <thead>\n",
       "    <tr style=\"text-align: right;\">\n",
       "      <th></th>\n",
       "      <th>IP Address</th>\n",
       "      <th>Port</th>\n",
       "      <th>Code</th>\n",
       "      <th>Country</th>\n",
       "      <th>Anonymity</th>\n",
       "      <th>Google</th>\n",
       "      <th>Https</th>\n",
       "      <th>Last Checked</th>\n",
       "    </tr>\n",
       "  </thead>\n",
       "  <tbody>\n",
       "    <tr>\n",
       "      <th>61</th>\n",
       "      <td>47.251.43.115</td>\n",
       "      <td>33333</td>\n",
       "      <td>US</td>\n",
       "      <td>United States</td>\n",
       "      <td>anonymous</td>\n",
       "      <td>no</td>\n",
       "      <td>yes</td>\n",
       "      <td>11 secs ago</td>\n",
       "    </tr>\n",
       "    <tr>\n",
       "      <th>127</th>\n",
       "      <td>165.232.129.150</td>\n",
       "      <td>80</td>\n",
       "      <td>US</td>\n",
       "      <td>United States</td>\n",
       "      <td>anonymous</td>\n",
       "      <td>yes</td>\n",
       "      <td>no</td>\n",
       "      <td>10 mins ago</td>\n",
       "    </tr>\n",
       "    <tr>\n",
       "      <th>229</th>\n",
       "      <td>199.195.253.14</td>\n",
       "      <td>1080</td>\n",
       "      <td>US</td>\n",
       "      <td>United States</td>\n",
       "      <td>elite proxy</td>\n",
       "      <td>no</td>\n",
       "      <td>yes</td>\n",
       "      <td>50 mins ago</td>\n",
       "    </tr>\n",
       "    <tr>\n",
       "      <th>240</th>\n",
       "      <td>172.233.131.233</td>\n",
       "      <td>10001</td>\n",
       "      <td>US</td>\n",
       "      <td>United States</td>\n",
       "      <td>elite proxy</td>\n",
       "      <td>no</td>\n",
       "      <td>yes</td>\n",
       "      <td>51 mins ago</td>\n",
       "    </tr>\n",
       "    <tr>\n",
       "      <th>248</th>\n",
       "      <td>47.89.184.18</td>\n",
       "      <td>3128</td>\n",
       "      <td>US</td>\n",
       "      <td>United States</td>\n",
       "      <td>anonymous</td>\n",
       "      <td>no</td>\n",
       "      <td>yes</td>\n",
       "      <td>54 mins ago</td>\n",
       "    </tr>\n",
       "    <tr>\n",
       "      <th>250</th>\n",
       "      <td>54.219.8.14</td>\n",
       "      <td>3128</td>\n",
       "      <td>US</td>\n",
       "      <td>United States</td>\n",
       "      <td>anonymous</td>\n",
       "      <td>no</td>\n",
       "      <td>yes</td>\n",
       "      <td>54 mins ago</td>\n",
       "    </tr>\n",
       "    <tr>\n",
       "      <th>251</th>\n",
       "      <td>18.144.72.78</td>\n",
       "      <td>3128</td>\n",
       "      <td>US</td>\n",
       "      <td>United States</td>\n",
       "      <td>anonymous</td>\n",
       "      <td>no</td>\n",
       "      <td>yes</td>\n",
       "      <td>54 mins ago</td>\n",
       "    </tr>\n",
       "    <tr>\n",
       "      <th>287</th>\n",
       "      <td>47.90.205.231</td>\n",
       "      <td>33333</td>\n",
       "      <td>US</td>\n",
       "      <td>United States</td>\n",
       "      <td>anonymous</td>\n",
       "      <td>no</td>\n",
       "      <td>yes</td>\n",
       "      <td>1 hour 11 mins ago</td>\n",
       "    </tr>\n",
       "  </tbody>\n",
       "</table>\n",
       "</div>"
      ],
      "text/plain": [
       "          IP Address   Port Code        Country    Anonymity Google Https  \\\n",
       "61     47.251.43.115  33333   US  United States    anonymous     no   yes   \n",
       "127  165.232.129.150     80   US  United States    anonymous    yes    no   \n",
       "229   199.195.253.14   1080   US  United States  elite proxy     no   yes   \n",
       "240  172.233.131.233  10001   US  United States  elite proxy     no   yes   \n",
       "248     47.89.184.18   3128   US  United States    anonymous     no   yes   \n",
       "250      54.219.8.14   3128   US  United States    anonymous     no   yes   \n",
       "251     18.144.72.78   3128   US  United States    anonymous     no   yes   \n",
       "287    47.90.205.231  33333   US  United States    anonymous     no   yes   \n",
       "\n",
       "           Last Checked  \n",
       "61          11 secs ago  \n",
       "127         10 mins ago  \n",
       "229         50 mins ago  \n",
       "240         51 mins ago  \n",
       "248         54 mins ago  \n",
       "250         54 mins ago  \n",
       "251         54 mins ago  \n",
       "287  1 hour 11 mins ago  "
      ]
     },
     "execution_count": 12,
     "metadata": {},
     "output_type": "execute_result"
    }
   ],
   "source": [
    "us_proxy_df = all_proxy_df[all_proxy_df['Code'] == 'US']\n",
    "us_proxy_df = us_proxy_df[\n",
    "    (us_proxy_df['Google'] == 'yes') | (us_proxy_df['Https'] == 'yes')\n",
    "]\n",
    "us_proxy_df"
   ]
  },
  {
   "cell_type": "code",
   "execution_count": 13,
   "metadata": {},
   "outputs": [],
   "source": [
    "us_proxy_csv_save_path = PROJECT_DIR / 'proxy_servers_files' / 'us-proxy-list.csv'\n",
    "us_proxy_df.to_csv(us_proxy_csv_save_path, index=False)"
   ]
  },
  {
   "cell_type": "code",
   "execution_count": null,
   "metadata": {},
   "outputs": [],
   "source": [
    "work_lp_list = list()\n",
    "for i, row in us_proxy_df.iterrows():\n",
    "    ip = row['IP Address']\n",
    "    port = row['Port']\n",
    "    \n",
    "    try:\n",
    "        test_api_url = 'http://ipinfo.io/json'\n",
    "        res = requests.get(\n",
    "            test_api_url,\n",
    "            proxies={\n",
    "                'http': f'http://{ip}:{port}', \n",
    "                'https': f'http://{ip}:{port}'\n",
    "            },\n",
    "        )\n",
    "    except Exception as e:\n",
    "        continue\n",
    "\n",
    "    if res.status_code == 200:\n",
    "        work_lp_list.append(f\"{ip}:{port}\")"
   ]
  },
  {
   "cell_type": "code",
   "execution_count": 17,
   "metadata": {},
   "outputs": [
    {
     "data": {
      "text/plain": [
       "['47.251.43.115:33333', '165.232.129.150:80']"
      ]
     },
     "execution_count": 17,
     "metadata": {},
     "output_type": "execute_result"
    }
   ],
   "source": [
    "work_lp_list"
   ]
  },
  {
   "cell_type": "code",
   "execution_count": null,
   "metadata": {},
   "outputs": [],
   "source": []
  }
 ],
 "metadata": {
  "kernelspec": {
   "display_name": "sunacchi",
   "language": "python",
   "name": "python3"
  },
  "language_info": {
   "codemirror_mode": {
    "name": "ipython",
    "version": 3
   },
   "file_extension": ".py",
   "mimetype": "text/x-python",
   "name": "python",
   "nbconvert_exporter": "python",
   "pygments_lexer": "ipython3",
   "version": "3.11.10"
  }
 },
 "nbformat": 4,
 "nbformat_minor": 0
}